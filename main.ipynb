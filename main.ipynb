{
 "cells": [
  {
   "cell_type": "markdown",
   "id": "dbdafd82-df5c-4953-8b5c-bcb77576bd5b",
   "metadata": {},
   "source": [
    "# Schneider Electric Hackathon - Data Science"
   ]
  },
  {
   "cell_type": "code",
   "execution_count": 1,
   "id": "3555c713-550c-4c91-9569-ef4dfa8a325c",
   "metadata": {},
   "outputs": [],
   "source": [
    "import pandas as pd\n",
    "import numpy as np\n",
    "import requests\n",
    "import os\n",
    "import PyPDF2"
   ]
  },
  {
   "cell_type": "markdown",
   "id": "0944ea1a-0877-4ed7-a6ad-8d572cf9706d",
   "metadata": {},
   "source": [
    "## Importing data\n",
    "### CSV data\n",
    "Import csv data with different separators and join in a single dataframe."
   ]
  },
  {
   "cell_type": "code",
   "execution_count": 2,
   "id": "bae474de-fedb-4543-8e57-c1d3df71e45d",
   "metadata": {},
   "outputs": [],
   "source": [
    "csv_df = pd.read_csv(\"input/train1.csv\")\n",
    "csv_df2 = pd.read_csv(\"input/train2.csv\", sep = \";\")\n",
    "csv_df = pd.concat([csv_df, csv_df2], ignore_index = True)"
   ]
  },
  {
   "cell_type": "markdown",
   "id": "f6e1d9c9-5aa0-44f6-9c4c-60d9a158c3a5",
   "metadata": {},
   "source": [
    "### JSON data\n",
    "\n",
    "Import json data with requests and create dataframe."
   ]
  },
  {
   "cell_type": "code",
   "execution_count": 3,
   "id": "e7e194b7-1b17-4bb7-a6c2-0a0a208fa505",
   "metadata": {},
   "outputs": [],
   "source": [
    "json_file = requests.get(\"http://schneiderapihack-env.eba-3ais9akk.us-east-2.elasticbeanstalk.com/first\")\n",
    "json_file2 = requests.get(\"http://schneiderapihack-env.eba-3ais9akk.us-east-2.elasticbeanstalk.com/second\")\n",
    "json_file3 = requests.get(\"http://schneiderapihack-env.eba-3ais9akk.us-east-2.elasticbeanstalk.com/third\")\n",
    "json_df = pd.concat(map(pd.DataFrame.from_dict, [json_file.json(), json_file2.json(), json_file3.json()]), ignore_index = True)"
   ]
  },
  {
   "cell_type": "markdown",
   "id": "30b164f3-a26b-4886-98b2-c2db0783cef4",
   "metadata": {},
   "source": [
    "### PDF data\n",
    "Loop thru all pdf files in pdf directory.<br>\n",
    "If it is the first pdf create dataframe and fill info from first pdf file.<br>\n",
    "Otherwise just fill the data frame"
   ]
  },
  {
   "cell_type": "code",
   "execution_count": 4,
   "id": "3cab8403-08c5-4ef0-94c5-4553037f7e15",
   "metadata": {},
   "outputs": [],
   "source": [
    "def create_pdf_df(lines):\n",
    "    pdf_columns = []\n",
    "    pdf_info = []\n",
    "    for i, line in enumerate(lines):\n",
    "        if \":\" in line or \"CITY_ID\" in line:\n",
    "            pdf_columns.append(line.replace(\":\", \"\"));\n",
    "            pdf_info.append(lines[i + 1]);\n",
    "        \n",
    "    df = pd.DataFrame(columns = pdf_columns)\n",
    "    df_length = len(df)\n",
    "    df.loc[df_length] = pdf_info\n",
    "    return df;"
   ]
  },
  {
   "cell_type": "code",
   "execution_count": 5,
   "id": "5cef3971-716a-4d86-997f-38b88d3cf7e3",
   "metadata": {},
   "outputs": [],
   "source": [
    "def pdf_fill(lines, df):\n",
    "    pdf_info = []\n",
    "    for i, line in enumerate(lines):\n",
    "        if \":\" in line or \"CITY_ID\" in line:\n",
    "            pdf_info.append(lines[i + 1]);\n",
    "        \n",
    "    df_length = len(df)\n",
    "    df.loc[df_length] = pdf_info\n",
    "    return df;"
   ]
  },
  {
   "cell_type": "code",
   "execution_count": 6,
   "id": "c6c76f52-2129-4665-a54a-56fdc7d30001",
   "metadata": {},
   "outputs": [],
   "source": [
    "pdf_dir = \"input\\pdf\"\n",
    "i = 0\n",
    "\n",
    "for pdf_file in os.listdir(pdf_dir):\n",
    "    f = os.path.join(pdf_dir, pdf_file)\n",
    "    if os.path.isfile(f):\n",
    "        pdfFile = open(f, 'rb')\n",
    "        reader = PyPDF2.PdfFileReader(pdfFile)\n",
    "        lines = reader.getPage(0).extractText().splitlines()       \n",
    "        if i == 0:\n",
    "            pdf_df = create_pdf_df(lines)\n",
    "            i += 1\n",
    "        else:\n",
    "            pdf_df = pdf_fill(lines, pdf_df)"
   ]
  },
  {
   "cell_type": "markdown",
   "id": "16b7d0c8-b5ac-48ac-abd9-7c25cee4260a",
   "metadata": {},
   "source": [
    "## Cleaning and joining data\n",
    "\n",
    "### Rename PDF columns to match CSV and JSON dataframes"
   ]
  },
  {
   "cell_type": "code",
   "execution_count": 7,
   "id": "8a335ff6-e65b-46d9-8c46-6070f5a1d8eb",
   "metadata": {},
   "outputs": [
    {
     "name": "stdout",
     "output_type": "stream",
     "text": [
      "Index(['countryName', 'eprtrSectorName', 'EPRTRAnnexIMainActivityLabel',\n",
      "       'FacilityInspireID', 'facilityName', 'City', 'targetRelease',\n",
      "       'pollutant', 'reportingYear', 'MONTH', 'DAY', 'CONTINENT',\n",
      "       'max_wind_speed', 'avg_wind_speed', 'min_wind_speed', 'max_temp',\n",
      "       'avg_temp', 'min_temp', 'DAY WITH FOGS', 'REPORTER NAME', 'CITY ID'],\n",
      "      dtype='object')\n",
      "Index(['', 'CITY ID', 'CONTINENT', 'City', 'DAY', 'DAY WITH FOGS',\n",
      "       'EPRTRAnnexIMainActivityCode', 'EPRTRAnnexIMainActivityLabel',\n",
      "       'EPRTRSectorCode', 'FacilityInspireID', 'MONTH', 'REPORTER NAME',\n",
      "       'avg_temp', 'avg_wind_speed', 'countryName', 'eprtrSectorName',\n",
      "       'facilityName', 'max_temp', 'max_wind_speed', 'min_temp',\n",
      "       'min_wind_speed', 'pollutant', 'reportingYear', 'targetRelease'],\n",
      "      dtype='object')\n",
      "Index(['nº', 'FACILITY NAME', 'FacilityInspireID', 'COUNTRY', 'CONTINENT',\n",
      "       'CITY', 'EPRTRSectorCode', 'eprtrSectorName', 'MainActivityCode',\n",
      "       'targetRealase', 'pollutant', 'emissions', 'DAY', 'MONTH', 'YEAR',\n",
      "       'max_wind_speed', 'min_wind_speed', 'avg_wind_speed', 'max_temp',\n",
      "       'min_temp', 'avg_temp', 'DAYS FOG', 'REPORTER NAME', 'CITY_ID'],\n",
      "      dtype='object')\n"
     ]
    }
   ],
   "source": [
    "print(csv_df.columns)\n",
    "print(json_df.columns)\n",
    "print(pdf_df.columns)"
   ]
  },
  {
   "cell_type": "code",
   "execution_count": 8,
   "id": "3dbde87d-8f80-4f50-8714-8467a155ea0e",
   "metadata": {},
   "outputs": [],
   "source": [
    "json_df.drop(\"\", axis = 1, inplace = True)\n",
    "pdf_df.drop([\"nº\", \"emissions\"], axis = 1, inplace = True)"
   ]
  },
  {
   "cell_type": "code",
   "execution_count": 9,
   "id": "f64fa1b0-c88d-4771-ae2a-6344ec273753",
   "metadata": {},
   "outputs": [],
   "source": [
    "pdf_df.rename(columns = {'FACILITY NAME' : 'facilityName', 'COUNTRY': 'countryName', 'CITY': 'City',\n",
    "                        'MainActivityCode': 'EPRTRAnnexIMainActivityCode', 'targetRealase': 'targetRelease',\n",
    "                        'YEAR': 'reportingYear', 'DAYS FOG': 'DAY WITH FOGS', 'CITY_ID': 'CITY ID'}, inplace = True)"
   ]
  },
  {
   "cell_type": "code",
   "execution_count": 10,
   "id": "d6aa8e51-671f-42d8-ba22-cb25c7cec252",
   "metadata": {},
   "outputs": [
    {
     "name": "stdout",
     "output_type": "stream",
     "text": [
      "Index(['EPRTRAnnexIMainActivityCode', 'EPRTRSectorCode'], dtype='object')\n",
      "Index(['EPRTRAnnexIMainActivityLabel'], dtype='object')\n",
      "Index([], dtype='object')\n",
      "Index(['EPRTRAnnexIMainActivityLabel'], dtype='object')\n",
      "Index(['EPRTRAnnexIMainActivityCode', 'EPRTRSectorCode'], dtype='object')\n",
      "Index([], dtype='object')\n"
     ]
    }
   ],
   "source": [
    "print (json_df.columns.difference(csv_df.columns))\n",
    "print (json_df.columns.difference(pdf_df.columns))\n",
    "\n",
    "print (csv_df.columns.difference(json_df.columns))\n",
    "print (csv_df.columns.difference(pdf_df.columns))\n",
    "\n",
    "print (pdf_df.columns.difference(csv_df.columns))\n",
    "print (pdf_df.columns.difference(json_df.columns))"
   ]
  },
  {
   "cell_type": "markdown",
   "id": "f7c3ad38-723e-42cc-a4ce-f17d3716eb5e",
   "metadata": {},
   "source": [
    "### Fill missing columns"
   ]
  },
  {
   "cell_type": "code",
   "execution_count": 11,
   "id": "f0df18ce-5139-4916-b782-cc2923697a02",
   "metadata": {},
   "outputs": [],
   "source": [
    "sector_code = json_df.groupby(by=[\"EPRTRSectorCode\", \"eprtrSectorName\"])[\"CITY ID\"].count().reset_index()"
   ]
  },
  {
   "cell_type": "code",
   "execution_count": 12,
   "id": "037f40f4-e344-4f82-811e-6c15db24c0af",
   "metadata": {},
   "outputs": [],
   "source": [
    "csv_df['EPRTRSectorCode'] = 0;"
   ]
  },
  {
   "cell_type": "code",
   "execution_count": 13,
   "id": "4f0f67e6-7b37-41d0-97ef-1d43b73bceff",
   "metadata": {},
   "outputs": [],
   "source": [
    "i = 0\n",
    "for i in range (len(csv_df)):\n",
    "    csv_df.iloc[i, 21] = sector_code[sector_code['eprtrSectorName'] == csv_df.iloc[i, 1]]['EPRTRSectorCode'].values[0]\n",
    "   "
   ]
  },
  {
   "cell_type": "code",
   "execution_count": 14,
   "id": "13653291-3ac8-4da0-9700-9b7213d7b19b",
   "metadata": {},
   "outputs": [
    {
     "data": {
      "text/html": [
       "<div>\n",
       "<style scoped>\n",
       "    .dataframe tbody tr th:only-of-type {\n",
       "        vertical-align: middle;\n",
       "    }\n",
       "\n",
       "    .dataframe tbody tr th {\n",
       "        vertical-align: top;\n",
       "    }\n",
       "\n",
       "    .dataframe thead th {\n",
       "        text-align: right;\n",
       "    }\n",
       "</style>\n",
       "<table border=\"1\" class=\"dataframe\">\n",
       "  <thead>\n",
       "    <tr style=\"text-align: right;\">\n",
       "      <th></th>\n",
       "      <th>countryName</th>\n",
       "      <th>eprtrSectorName</th>\n",
       "      <th>EPRTRAnnexIMainActivityLabel</th>\n",
       "      <th>FacilityInspireID</th>\n",
       "      <th>facilityName</th>\n",
       "      <th>City</th>\n",
       "      <th>targetRelease</th>\n",
       "      <th>pollutant</th>\n",
       "      <th>reportingYear</th>\n",
       "      <th>MONTH</th>\n",
       "      <th>...</th>\n",
       "      <th>max_wind_speed</th>\n",
       "      <th>avg_wind_speed</th>\n",
       "      <th>min_wind_speed</th>\n",
       "      <th>max_temp</th>\n",
       "      <th>avg_temp</th>\n",
       "      <th>min_temp</th>\n",
       "      <th>DAY WITH FOGS</th>\n",
       "      <th>REPORTER NAME</th>\n",
       "      <th>CITY ID</th>\n",
       "      <th>EPRTRSectorCode</th>\n",
       "    </tr>\n",
       "  </thead>\n",
       "  <tbody>\n",
       "    <tr>\n",
       "      <th>0</th>\n",
       "      <td>Germany</td>\n",
       "      <td>Mineral industry</td>\n",
       "      <td>Installations for the production of cement cli...</td>\n",
       "      <td>https://registry.gdi-de.org/id/de.ni.mu/062217...</td>\n",
       "      <td>Holcim (Deutschland) GmbH Werk Höver</td>\n",
       "      <td>Sehnde</td>\n",
       "      <td>AIR</td>\n",
       "      <td>Carbon dioxide (CO2)</td>\n",
       "      <td>2015</td>\n",
       "      <td>10</td>\n",
       "      <td>...</td>\n",
       "      <td>15.118767</td>\n",
       "      <td>14.312541</td>\n",
       "      <td>21.419106</td>\n",
       "      <td>2.864895</td>\n",
       "      <td>4.924169</td>\n",
       "      <td>9.688206</td>\n",
       "      <td>2</td>\n",
       "      <td>Mr. Jacob Ortega</td>\n",
       "      <td>7cdb5e74adcb2ffaa21c1b61395a984f</td>\n",
       "      <td>3</td>\n",
       "    </tr>\n",
       "    <tr>\n",
       "      <th>1</th>\n",
       "      <td>Italy</td>\n",
       "      <td>Mineral industry</td>\n",
       "      <td>Installations for the production of cement cli...</td>\n",
       "      <td>IT.CAED/240602021.FACILITY</td>\n",
       "      <td>Stabilimento di Tavernola Bergamasca</td>\n",
       "      <td>TAVERNOLA BERGAMASCA</td>\n",
       "      <td>AIR</td>\n",
       "      <td>Nitrogen oxides (NOX)</td>\n",
       "      <td>2018</td>\n",
       "      <td>9</td>\n",
       "      <td>...</td>\n",
       "      <td>19.661550</td>\n",
       "      <td>19.368166</td>\n",
       "      <td>21.756389</td>\n",
       "      <td>5.462839</td>\n",
       "      <td>7.864403</td>\n",
       "      <td>12.023521</td>\n",
       "      <td>1</td>\n",
       "      <td>Ashlee Serrano</td>\n",
       "      <td>cd1dbabbdba230b828c657a9b19a8963</td>\n",
       "      <td>3</td>\n",
       "    </tr>\n",
       "  </tbody>\n",
       "</table>\n",
       "<p>2 rows × 22 columns</p>\n",
       "</div>"
      ],
      "text/plain": [
       "  countryName   eprtrSectorName  \\\n",
       "0     Germany  Mineral industry   \n",
       "1       Italy  Mineral industry   \n",
       "\n",
       "                        EPRTRAnnexIMainActivityLabel  \\\n",
       "0  Installations for the production of cement cli...   \n",
       "1  Installations for the production of cement cli...   \n",
       "\n",
       "                                   FacilityInspireID  \\\n",
       "0  https://registry.gdi-de.org/id/de.ni.mu/062217...   \n",
       "1                         IT.CAED/240602021.FACILITY   \n",
       "\n",
       "                           facilityName                  City targetRelease  \\\n",
       "0  Holcim (Deutschland) GmbH Werk Höver                Sehnde           AIR   \n",
       "1  Stabilimento di Tavernola Bergamasca  TAVERNOLA BERGAMASCA           AIR   \n",
       "\n",
       "               pollutant  reportingYear  MONTH  ...  max_wind_speed  \\\n",
       "0   Carbon dioxide (CO2)           2015     10  ...       15.118767   \n",
       "1  Nitrogen oxides (NOX)           2018      9  ...       19.661550   \n",
       "\n",
       "  avg_wind_speed  min_wind_speed  max_temp  avg_temp   min_temp  \\\n",
       "0      14.312541       21.419106  2.864895  4.924169   9.688206   \n",
       "1      19.368166       21.756389  5.462839  7.864403  12.023521   \n",
       "\n",
       "   DAY WITH FOGS     REPORTER NAME                           CITY ID  \\\n",
       "0              2  Mr. Jacob Ortega  7cdb5e74adcb2ffaa21c1b61395a984f   \n",
       "1              1    Ashlee Serrano  cd1dbabbdba230b828c657a9b19a8963   \n",
       "\n",
       "  EPRTRSectorCode  \n",
       "0               3  \n",
       "1               3  \n",
       "\n",
       "[2 rows x 22 columns]"
      ]
     },
     "execution_count": 14,
     "metadata": {},
     "output_type": "execute_result"
    }
   ],
   "source": [
    "csv_df.head(2)"
   ]
  },
  {
   "cell_type": "code",
   "execution_count": 15,
   "id": "5fb5227a-ef83-4d2b-9dd7-4598d285791e",
   "metadata": {},
   "outputs": [],
   "source": [
    "main_activity = json_df.groupby(by=[\"EPRTRAnnexIMainActivityCode\", \"EPRTRAnnexIMainActivityLabel\"])[\"CITY ID\"].count().reset_index()"
   ]
  },
  {
   "cell_type": "code",
   "execution_count": 16,
   "id": "041df707-a58b-46e9-aacc-e54435f7e359",
   "metadata": {},
   "outputs": [],
   "source": [
    "csv_df['EPRTRAnnexIMainActivityCode'] = 0"
   ]
  },
  {
   "cell_type": "code",
   "execution_count": 17,
   "id": "955bcfbe-2329-4d74-b5b4-65104e61fd97",
   "metadata": {},
   "outputs": [],
   "source": [
    "i = 0\n",
    "for i in range (len(csv_df)):\n",
    "    try:\n",
    "        csv_df.iloc[i, 22] = main_activity[main_activity['EPRTRAnnexIMainActivityLabel'] == csv_df.iloc[i, 2]]['EPRTRAnnexIMainActivityCode'].values[0]\n",
    "    except:\n",
    "        csv_df.iloc[i, 22] = 'error'"
   ]
  },
  {
   "cell_type": "code",
   "execution_count": 18,
   "id": "3464d469-db87-4eaa-b158-d0707b2ad992",
   "metadata": {},
   "outputs": [
    {
     "data": {
      "text/html": [
       "<div>\n",
       "<style scoped>\n",
       "    .dataframe tbody tr th:only-of-type {\n",
       "        vertical-align: middle;\n",
       "    }\n",
       "\n",
       "    .dataframe tbody tr th {\n",
       "        vertical-align: top;\n",
       "    }\n",
       "\n",
       "    .dataframe thead th {\n",
       "        text-align: right;\n",
       "    }\n",
       "</style>\n",
       "<table border=\"1\" class=\"dataframe\">\n",
       "  <thead>\n",
       "    <tr style=\"text-align: right;\">\n",
       "      <th></th>\n",
       "      <th>countryName</th>\n",
       "      <th>eprtrSectorName</th>\n",
       "      <th>EPRTRAnnexIMainActivityLabel</th>\n",
       "      <th>FacilityInspireID</th>\n",
       "      <th>facilityName</th>\n",
       "      <th>City</th>\n",
       "      <th>targetRelease</th>\n",
       "      <th>pollutant</th>\n",
       "      <th>reportingYear</th>\n",
       "      <th>MONTH</th>\n",
       "      <th>...</th>\n",
       "      <th>avg_wind_speed</th>\n",
       "      <th>min_wind_speed</th>\n",
       "      <th>max_temp</th>\n",
       "      <th>avg_temp</th>\n",
       "      <th>min_temp</th>\n",
       "      <th>DAY WITH FOGS</th>\n",
       "      <th>REPORTER NAME</th>\n",
       "      <th>CITY ID</th>\n",
       "      <th>EPRTRSectorCode</th>\n",
       "      <th>EPRTRAnnexIMainActivityCode</th>\n",
       "    </tr>\n",
       "  </thead>\n",
       "  <tbody>\n",
       "    <tr>\n",
       "      <th>7238</th>\n",
       "      <td>Germany</td>\n",
       "      <td>Chemical industry</td>\n",
       "      <td>Chemical installations for the production on a...</td>\n",
       "      <td>https://registry.gdi-de.org/id/de.sn.sax4inspi...</td>\n",
       "      <td>Wacker Chemie AG</td>\n",
       "      <td>Nünchritz</td>\n",
       "      <td>AIR</td>\n",
       "      <td>Carbon dioxide (CO2)</td>\n",
       "      <td>2015</td>\n",
       "      <td>8</td>\n",
       "      <td>...</td>\n",
       "      <td>18.709818</td>\n",
       "      <td>23.202782</td>\n",
       "      <td>11.783017</td>\n",
       "      <td>12.273299</td>\n",
       "      <td>14.018526</td>\n",
       "      <td>1</td>\n",
       "      <td>Erica Kelly</td>\n",
       "      <td>18b077c0c0f53e9807ea115de467321a</td>\n",
       "      <td>4</td>\n",
       "      <td>error</td>\n",
       "    </tr>\n",
       "    <tr>\n",
       "      <th>8906</th>\n",
       "      <td>Germany</td>\n",
       "      <td>Chemical industry</td>\n",
       "      <td>Chemical installations for the production on a...</td>\n",
       "      <td>https://registry.gdi-de.org/id/de.sn.sax4inspi...</td>\n",
       "      <td>Wacker Chemie AG</td>\n",
       "      <td>Nünchritz</td>\n",
       "      <td>AIR</td>\n",
       "      <td>Carbon dioxide (CO2)</td>\n",
       "      <td>2013</td>\n",
       "      <td>6</td>\n",
       "      <td>...</td>\n",
       "      <td>21.051806</td>\n",
       "      <td>27.333603</td>\n",
       "      <td>10.623629</td>\n",
       "      <td>11.993096</td>\n",
       "      <td>13.167055</td>\n",
       "      <td>2</td>\n",
       "      <td>Benjamin Mathis</td>\n",
       "      <td>18b077c0c0f53e9807ea115de467321a</td>\n",
       "      <td>4</td>\n",
       "      <td>error</td>\n",
       "    </tr>\n",
       "  </tbody>\n",
       "</table>\n",
       "<p>2 rows × 23 columns</p>\n",
       "</div>"
      ],
      "text/plain": [
       "     countryName    eprtrSectorName  \\\n",
       "7238     Germany  Chemical industry   \n",
       "8906     Germany  Chemical industry   \n",
       "\n",
       "                           EPRTRAnnexIMainActivityLabel  \\\n",
       "7238  Chemical installations for the production on a...   \n",
       "8906  Chemical installations for the production on a...   \n",
       "\n",
       "                                      FacilityInspireID      facilityName  \\\n",
       "7238  https://registry.gdi-de.org/id/de.sn.sax4inspi...  Wacker Chemie AG   \n",
       "8906  https://registry.gdi-de.org/id/de.sn.sax4inspi...  Wacker Chemie AG   \n",
       "\n",
       "           City targetRelease             pollutant  reportingYear  MONTH  \\\n",
       "7238  Nünchritz           AIR  Carbon dioxide (CO2)           2015      8   \n",
       "8906  Nünchritz           AIR  Carbon dioxide (CO2)           2013      6   \n",
       "\n",
       "      ...  avg_wind_speed min_wind_speed   max_temp   avg_temp   min_temp  \\\n",
       "7238  ...       18.709818      23.202782  11.783017  12.273299  14.018526   \n",
       "8906  ...       21.051806      27.333603  10.623629  11.993096  13.167055   \n",
       "\n",
       "      DAY WITH FOGS    REPORTER NAME                           CITY ID  \\\n",
       "7238              1      Erica Kelly  18b077c0c0f53e9807ea115de467321a   \n",
       "8906              2  Benjamin Mathis  18b077c0c0f53e9807ea115de467321a   \n",
       "\n",
       "      EPRTRSectorCode EPRTRAnnexIMainActivityCode  \n",
       "7238                4                       error  \n",
       "8906                4                       error  \n",
       "\n",
       "[2 rows x 23 columns]"
      ]
     },
     "execution_count": 18,
     "metadata": {},
     "output_type": "execute_result"
    }
   ],
   "source": [
    "csv_df[csv_df['EPRTRAnnexIMainActivityCode'] == 'error']"
   ]
  },
  {
   "cell_type": "code",
   "execution_count": 19,
   "id": "dcc2045b-f177-43fb-8f7f-3a0ba6f02a2f",
   "metadata": {},
   "outputs": [],
   "source": [
    "csv_df.loc[csv_df['EPRTRAnnexIMainActivityCode'] == 'error', 'EPRTRAnnexIMainActivityCode'] = '4.(a).(vii)'"
   ]
  },
  {
   "cell_type": "code",
   "execution_count": 20,
   "id": "488c22e3-5748-4839-ae15-b950aa5a3614",
   "metadata": {},
   "outputs": [
    {
     "data": {
      "text/html": [
       "<div>\n",
       "<style scoped>\n",
       "    .dataframe tbody tr th:only-of-type {\n",
       "        vertical-align: middle;\n",
       "    }\n",
       "\n",
       "    .dataframe tbody tr th {\n",
       "        vertical-align: top;\n",
       "    }\n",
       "\n",
       "    .dataframe thead th {\n",
       "        text-align: right;\n",
       "    }\n",
       "</style>\n",
       "<table border=\"1\" class=\"dataframe\">\n",
       "  <thead>\n",
       "    <tr style=\"text-align: right;\">\n",
       "      <th></th>\n",
       "      <th>countryName</th>\n",
       "      <th>eprtrSectorName</th>\n",
       "      <th>EPRTRAnnexIMainActivityLabel</th>\n",
       "      <th>FacilityInspireID</th>\n",
       "      <th>facilityName</th>\n",
       "      <th>City</th>\n",
       "      <th>targetRelease</th>\n",
       "      <th>pollutant</th>\n",
       "      <th>reportingYear</th>\n",
       "      <th>MONTH</th>\n",
       "      <th>...</th>\n",
       "      <th>avg_wind_speed</th>\n",
       "      <th>min_wind_speed</th>\n",
       "      <th>max_temp</th>\n",
       "      <th>avg_temp</th>\n",
       "      <th>min_temp</th>\n",
       "      <th>DAY WITH FOGS</th>\n",
       "      <th>REPORTER NAME</th>\n",
       "      <th>CITY ID</th>\n",
       "      <th>EPRTRSectorCode</th>\n",
       "      <th>EPRTRAnnexIMainActivityCode</th>\n",
       "    </tr>\n",
       "  </thead>\n",
       "  <tbody>\n",
       "    <tr>\n",
       "      <th>7238</th>\n",
       "      <td>Germany</td>\n",
       "      <td>Chemical industry</td>\n",
       "      <td>Chemical installations for the production on a...</td>\n",
       "      <td>https://registry.gdi-de.org/id/de.sn.sax4inspi...</td>\n",
       "      <td>Wacker Chemie AG</td>\n",
       "      <td>Nünchritz</td>\n",
       "      <td>AIR</td>\n",
       "      <td>Carbon dioxide (CO2)</td>\n",
       "      <td>2015</td>\n",
       "      <td>8</td>\n",
       "      <td>...</td>\n",
       "      <td>18.709818</td>\n",
       "      <td>23.202782</td>\n",
       "      <td>11.783017</td>\n",
       "      <td>12.273299</td>\n",
       "      <td>14.018526</td>\n",
       "      <td>1</td>\n",
       "      <td>Erica Kelly</td>\n",
       "      <td>18b077c0c0f53e9807ea115de467321a</td>\n",
       "      <td>4</td>\n",
       "      <td>4.(a).(vii)</td>\n",
       "    </tr>\n",
       "    <tr>\n",
       "      <th>8906</th>\n",
       "      <td>Germany</td>\n",
       "      <td>Chemical industry</td>\n",
       "      <td>Chemical installations for the production on a...</td>\n",
       "      <td>https://registry.gdi-de.org/id/de.sn.sax4inspi...</td>\n",
       "      <td>Wacker Chemie AG</td>\n",
       "      <td>Nünchritz</td>\n",
       "      <td>AIR</td>\n",
       "      <td>Carbon dioxide (CO2)</td>\n",
       "      <td>2013</td>\n",
       "      <td>6</td>\n",
       "      <td>...</td>\n",
       "      <td>21.051806</td>\n",
       "      <td>27.333603</td>\n",
       "      <td>10.623629</td>\n",
       "      <td>11.993096</td>\n",
       "      <td>13.167055</td>\n",
       "      <td>2</td>\n",
       "      <td>Benjamin Mathis</td>\n",
       "      <td>18b077c0c0f53e9807ea115de467321a</td>\n",
       "      <td>4</td>\n",
       "      <td>4.(a).(vii)</td>\n",
       "    </tr>\n",
       "  </tbody>\n",
       "</table>\n",
       "<p>2 rows × 23 columns</p>\n",
       "</div>"
      ],
      "text/plain": [
       "     countryName    eprtrSectorName  \\\n",
       "7238     Germany  Chemical industry   \n",
       "8906     Germany  Chemical industry   \n",
       "\n",
       "                           EPRTRAnnexIMainActivityLabel  \\\n",
       "7238  Chemical installations for the production on a...   \n",
       "8906  Chemical installations for the production on a...   \n",
       "\n",
       "                                      FacilityInspireID      facilityName  \\\n",
       "7238  https://registry.gdi-de.org/id/de.sn.sax4inspi...  Wacker Chemie AG   \n",
       "8906  https://registry.gdi-de.org/id/de.sn.sax4inspi...  Wacker Chemie AG   \n",
       "\n",
       "           City targetRelease             pollutant  reportingYear  MONTH  \\\n",
       "7238  Nünchritz           AIR  Carbon dioxide (CO2)           2015      8   \n",
       "8906  Nünchritz           AIR  Carbon dioxide (CO2)           2013      6   \n",
       "\n",
       "      ...  avg_wind_speed min_wind_speed   max_temp   avg_temp   min_temp  \\\n",
       "7238  ...       18.709818      23.202782  11.783017  12.273299  14.018526   \n",
       "8906  ...       21.051806      27.333603  10.623629  11.993096  13.167055   \n",
       "\n",
       "      DAY WITH FOGS    REPORTER NAME                           CITY ID  \\\n",
       "7238              1      Erica Kelly  18b077c0c0f53e9807ea115de467321a   \n",
       "8906              2  Benjamin Mathis  18b077c0c0f53e9807ea115de467321a   \n",
       "\n",
       "      EPRTRSectorCode EPRTRAnnexIMainActivityCode  \n",
       "7238                4                 4.(a).(vii)  \n",
       "8906                4                 4.(a).(vii)  \n",
       "\n",
       "[2 rows x 23 columns]"
      ]
     },
     "execution_count": 20,
     "metadata": {},
     "output_type": "execute_result"
    }
   ],
   "source": [
    "csv_df[csv_df['EPRTRAnnexIMainActivityCode'] == '4.(a).(vii)']"
   ]
  },
  {
   "cell_type": "code",
   "execution_count": 21,
   "id": "226bc23c-422e-498c-abb1-279e6d139efe",
   "metadata": {},
   "outputs": [
    {
     "data": {
      "text/html": [
       "<div>\n",
       "<style scoped>\n",
       "    .dataframe tbody tr th:only-of-type {\n",
       "        vertical-align: middle;\n",
       "    }\n",
       "\n",
       "    .dataframe tbody tr th {\n",
       "        vertical-align: top;\n",
       "    }\n",
       "\n",
       "    .dataframe thead th {\n",
       "        text-align: right;\n",
       "    }\n",
       "</style>\n",
       "<table border=\"1\" class=\"dataframe\">\n",
       "  <thead>\n",
       "    <tr style=\"text-align: right;\">\n",
       "      <th></th>\n",
       "      <th>countryName</th>\n",
       "      <th>eprtrSectorName</th>\n",
       "      <th>EPRTRAnnexIMainActivityLabel</th>\n",
       "      <th>FacilityInspireID</th>\n",
       "      <th>facilityName</th>\n",
       "      <th>City</th>\n",
       "      <th>targetRelease</th>\n",
       "      <th>pollutant</th>\n",
       "      <th>reportingYear</th>\n",
       "      <th>MONTH</th>\n",
       "      <th>...</th>\n",
       "      <th>avg_wind_speed</th>\n",
       "      <th>min_wind_speed</th>\n",
       "      <th>max_temp</th>\n",
       "      <th>avg_temp</th>\n",
       "      <th>min_temp</th>\n",
       "      <th>DAY WITH FOGS</th>\n",
       "      <th>REPORTER NAME</th>\n",
       "      <th>CITY ID</th>\n",
       "      <th>EPRTRSectorCode</th>\n",
       "      <th>EPRTRAnnexIMainActivityCode</th>\n",
       "    </tr>\n",
       "  </thead>\n",
       "  <tbody>\n",
       "    <tr>\n",
       "      <th>0</th>\n",
       "      <td>Germany</td>\n",
       "      <td>Mineral industry</td>\n",
       "      <td>Installations for the production of cement cli...</td>\n",
       "      <td>https://registry.gdi-de.org/id/de.ni.mu/062217...</td>\n",
       "      <td>Holcim (Deutschland) GmbH Werk Höver</td>\n",
       "      <td>Sehnde</td>\n",
       "      <td>AIR</td>\n",
       "      <td>Carbon dioxide (CO2)</td>\n",
       "      <td>2015</td>\n",
       "      <td>10</td>\n",
       "      <td>...</td>\n",
       "      <td>14.312541</td>\n",
       "      <td>21.419106</td>\n",
       "      <td>2.864895</td>\n",
       "      <td>4.924169</td>\n",
       "      <td>9.688206</td>\n",
       "      <td>2</td>\n",
       "      <td>Mr. Jacob Ortega</td>\n",
       "      <td>7cdb5e74adcb2ffaa21c1b61395a984f</td>\n",
       "      <td>3</td>\n",
       "      <td>3(c)(i)</td>\n",
       "    </tr>\n",
       "    <tr>\n",
       "      <th>1</th>\n",
       "      <td>Italy</td>\n",
       "      <td>Mineral industry</td>\n",
       "      <td>Installations for the production of cement cli...</td>\n",
       "      <td>IT.CAED/240602021.FACILITY</td>\n",
       "      <td>Stabilimento di Tavernola Bergamasca</td>\n",
       "      <td>TAVERNOLA BERGAMASCA</td>\n",
       "      <td>AIR</td>\n",
       "      <td>Nitrogen oxides (NOX)</td>\n",
       "      <td>2018</td>\n",
       "      <td>9</td>\n",
       "      <td>...</td>\n",
       "      <td>19.368166</td>\n",
       "      <td>21.756389</td>\n",
       "      <td>5.462839</td>\n",
       "      <td>7.864403</td>\n",
       "      <td>12.023521</td>\n",
       "      <td>1</td>\n",
       "      <td>Ashlee Serrano</td>\n",
       "      <td>cd1dbabbdba230b828c657a9b19a8963</td>\n",
       "      <td>3</td>\n",
       "      <td>3(c)</td>\n",
       "    </tr>\n",
       "  </tbody>\n",
       "</table>\n",
       "<p>2 rows × 23 columns</p>\n",
       "</div>"
      ],
      "text/plain": [
       "  countryName   eprtrSectorName  \\\n",
       "0     Germany  Mineral industry   \n",
       "1       Italy  Mineral industry   \n",
       "\n",
       "                        EPRTRAnnexIMainActivityLabel  \\\n",
       "0  Installations for the production of cement cli...   \n",
       "1  Installations for the production of cement cli...   \n",
       "\n",
       "                                   FacilityInspireID  \\\n",
       "0  https://registry.gdi-de.org/id/de.ni.mu/062217...   \n",
       "1                         IT.CAED/240602021.FACILITY   \n",
       "\n",
       "                           facilityName                  City targetRelease  \\\n",
       "0  Holcim (Deutschland) GmbH Werk Höver                Sehnde           AIR   \n",
       "1  Stabilimento di Tavernola Bergamasca  TAVERNOLA BERGAMASCA           AIR   \n",
       "\n",
       "               pollutant  reportingYear  MONTH  ...  avg_wind_speed  \\\n",
       "0   Carbon dioxide (CO2)           2015     10  ...       14.312541   \n",
       "1  Nitrogen oxides (NOX)           2018      9  ...       19.368166   \n",
       "\n",
       "  min_wind_speed  max_temp  avg_temp   min_temp  DAY WITH FOGS  \\\n",
       "0      21.419106  2.864895  4.924169   9.688206              2   \n",
       "1      21.756389  5.462839  7.864403  12.023521              1   \n",
       "\n",
       "      REPORTER NAME                           CITY ID  EPRTRSectorCode  \\\n",
       "0  Mr. Jacob Ortega  7cdb5e74adcb2ffaa21c1b61395a984f                3   \n",
       "1    Ashlee Serrano  cd1dbabbdba230b828c657a9b19a8963                3   \n",
       "\n",
       "  EPRTRAnnexIMainActivityCode  \n",
       "0                     3(c)(i)  \n",
       "1                        3(c)  \n",
       "\n",
       "[2 rows x 23 columns]"
      ]
     },
     "execution_count": 21,
     "metadata": {},
     "output_type": "execute_result"
    }
   ],
   "source": [
    "csv_df.head(2)"
   ]
  },
  {
   "cell_type": "code",
   "execution_count": 22,
   "id": "210f48b4-63eb-4c78-b15c-85584268b268",
   "metadata": {},
   "outputs": [],
   "source": [
    "pdf_df['EPRTRAnnexIMainActivityLabel'] = 0;"
   ]
  },
  {
   "cell_type": "code",
   "execution_count": 23,
   "id": "b2592181-e9bc-4cd5-b6a5-02572193e36c",
   "metadata": {},
   "outputs": [],
   "source": [
    "i = 0\n",
    "for i in range (len(pdf_df)):\n",
    "    try:\n",
    "        pdf_df.iloc[i, 22] = main_activity[main_activity['EPRTRAnnexIMainActivityCode'] == pdf_df.iloc[i, 7]]['EPRTRAnnexIMainActivityLabel'].values[0]\n",
    "    except:\n",
    "        pdf_df.iloc[i, 22] = 'error'"
   ]
  },
  {
   "cell_type": "code",
   "execution_count": 24,
   "id": "899880e6-0d00-4e7f-a7f1-53b952cb37c7",
   "metadata": {},
   "outputs": [
    {
     "data": {
      "text/html": [
       "<div>\n",
       "<style scoped>\n",
       "    .dataframe tbody tr th:only-of-type {\n",
       "        vertical-align: middle;\n",
       "    }\n",
       "\n",
       "    .dataframe tbody tr th {\n",
       "        vertical-align: top;\n",
       "    }\n",
       "\n",
       "    .dataframe thead th {\n",
       "        text-align: right;\n",
       "    }\n",
       "</style>\n",
       "<table border=\"1\" class=\"dataframe\">\n",
       "  <thead>\n",
       "    <tr style=\"text-align: right;\">\n",
       "      <th></th>\n",
       "      <th>facilityName</th>\n",
       "      <th>FacilityInspireID</th>\n",
       "      <th>countryName</th>\n",
       "      <th>CONTINENT</th>\n",
       "      <th>City</th>\n",
       "      <th>EPRTRSectorCode</th>\n",
       "      <th>eprtrSectorName</th>\n",
       "      <th>EPRTRAnnexIMainActivityCode</th>\n",
       "      <th>targetRelease</th>\n",
       "      <th>pollutant</th>\n",
       "      <th>...</th>\n",
       "      <th>max_wind_speed</th>\n",
       "      <th>min_wind_speed</th>\n",
       "      <th>avg_wind_speed</th>\n",
       "      <th>max_temp</th>\n",
       "      <th>min_temp</th>\n",
       "      <th>avg_temp</th>\n",
       "      <th>DAY WITH FOGS</th>\n",
       "      <th>REPORTER NAME</th>\n",
       "      <th>CITY ID</th>\n",
       "      <th>EPRTRAnnexIMainActivityLabel</th>\n",
       "    </tr>\n",
       "  </thead>\n",
       "  <tbody>\n",
       "  </tbody>\n",
       "</table>\n",
       "<p>0 rows × 23 columns</p>\n",
       "</div>"
      ],
      "text/plain": [
       "Empty DataFrame\n",
       "Columns: [facilityName, FacilityInspireID, countryName, CONTINENT, City, EPRTRSectorCode, eprtrSectorName, EPRTRAnnexIMainActivityCode, targetRelease, pollutant, DAY, MONTH, reportingYear, max_wind_speed, min_wind_speed, avg_wind_speed, max_temp, min_temp, avg_temp, DAY WITH FOGS, REPORTER NAME, CITY ID, EPRTRAnnexIMainActivityLabel]\n",
       "Index: []\n",
       "\n",
       "[0 rows x 23 columns]"
      ]
     },
     "execution_count": 24,
     "metadata": {},
     "output_type": "execute_result"
    }
   ],
   "source": [
    "pdf_df[pdf_df['EPRTRAnnexIMainActivityLabel'] == 'error']"
   ]
  },
  {
   "cell_type": "code",
   "execution_count": 25,
   "id": "e372ee7b-e9de-474f-9199-59b0fe699544",
   "metadata": {},
   "outputs": [
    {
     "data": {
      "text/html": [
       "<div>\n",
       "<style scoped>\n",
       "    .dataframe tbody tr th:only-of-type {\n",
       "        vertical-align: middle;\n",
       "    }\n",
       "\n",
       "    .dataframe tbody tr th {\n",
       "        vertical-align: top;\n",
       "    }\n",
       "\n",
       "    .dataframe thead th {\n",
       "        text-align: right;\n",
       "    }\n",
       "</style>\n",
       "<table border=\"1\" class=\"dataframe\">\n",
       "  <thead>\n",
       "    <tr style=\"text-align: right;\">\n",
       "      <th></th>\n",
       "      <th>facilityName</th>\n",
       "      <th>FacilityInspireID</th>\n",
       "      <th>countryName</th>\n",
       "      <th>CONTINENT</th>\n",
       "      <th>City</th>\n",
       "      <th>EPRTRSectorCode</th>\n",
       "      <th>eprtrSectorName</th>\n",
       "      <th>EPRTRAnnexIMainActivityCode</th>\n",
       "      <th>targetRelease</th>\n",
       "      <th>pollutant</th>\n",
       "      <th>...</th>\n",
       "      <th>max_wind_speed</th>\n",
       "      <th>min_wind_speed</th>\n",
       "      <th>avg_wind_speed</th>\n",
       "      <th>max_temp</th>\n",
       "      <th>min_temp</th>\n",
       "      <th>avg_temp</th>\n",
       "      <th>DAY WITH FOGS</th>\n",
       "      <th>REPORTER NAME</th>\n",
       "      <th>CITY ID</th>\n",
       "      <th>EPRTRAnnexIMainActivityLabel</th>\n",
       "    </tr>\n",
       "  </thead>\n",
       "  <tbody>\n",
       "    <tr>\n",
       "      <th>0</th>\n",
       "      <td>Millerhill Recycling &amp; Energy Recovery Centre</td>\n",
       "      <td>UK.SEPA/200002651.Facility</td>\n",
       "      <td>United Kingdom</td>\n",
       "      <td>EUROPE</td>\n",
       "      <td>Millerhill, Dalkeith</td>\n",
       "      <td>5</td>\n",
       "      <td>Waste and wastewater management</td>\n",
       "      <td>5(b)</td>\n",
       "      <td>AIR</td>\n",
       "      <td>Nitrogen oxides (NOX)</td>\n",
       "      <td>...</td>\n",
       "      <td>1,79E+15</td>\n",
       "      <td>2,2E+16</td>\n",
       "      <td>2,04E+15</td>\n",
       "      <td>1,51E+16</td>\n",
       "      <td>1,82E+15</td>\n",
       "      <td>1,71E+16</td>\n",
       "      <td>10</td>\n",
       "      <td>William Nelson</td>\n",
       "      <td>c662b4b4d859a9c224b5ac0acf221748</td>\n",
       "      <td>Installations for the incineration of non-haza...</td>\n",
       "    </tr>\n",
       "    <tr>\n",
       "      <th>1</th>\n",
       "      <td>Fife Ethylene Plant</td>\n",
       "      <td>UK.SEPA/200000061.Facility</td>\n",
       "      <td>United Kingdom</td>\n",
       "      <td>EUROPE</td>\n",
       "      <td>Cowdenbeath</td>\n",
       "      <td>1</td>\n",
       "      <td>Energy sector</td>\n",
       "      <td>1(c)</td>\n",
       "      <td>AIR</td>\n",
       "      <td>Carbon dioxide (CO2)</td>\n",
       "      <td>...</td>\n",
       "      <td>1,52E+16</td>\n",
       "      <td>2,06E+15</td>\n",
       "      <td>1,46E+16</td>\n",
       "      <td>9,61E+15</td>\n",
       "      <td>1,33E+16</td>\n",
       "      <td>8,69E+15</td>\n",
       "      <td>19</td>\n",
       "      <td>Shawn Graham</td>\n",
       "      <td>3c563ab0d76fc84128574b5da82f769a</td>\n",
       "      <td>Thermal power stations and other combustion in...</td>\n",
       "    </tr>\n",
       "  </tbody>\n",
       "</table>\n",
       "<p>2 rows × 23 columns</p>\n",
       "</div>"
      ],
      "text/plain": [
       "                                    facilityName           FacilityInspireID  \\\n",
       "0  Millerhill Recycling & Energy Recovery Centre  UK.SEPA/200002651.Facility   \n",
       "1                            Fife Ethylene Plant  UK.SEPA/200000061.Facility   \n",
       "\n",
       "      countryName CONTINENT                  City EPRTRSectorCode  \\\n",
       "0  United Kingdom    EUROPE  Millerhill, Dalkeith               5   \n",
       "1  United Kingdom    EUROPE           Cowdenbeath               1   \n",
       "\n",
       "                   eprtrSectorName EPRTRAnnexIMainActivityCode targetRelease  \\\n",
       "0  Waste and wastewater management                        5(b)           AIR   \n",
       "1                    Energy sector                        1(c)           AIR   \n",
       "\n",
       "               pollutant  ... max_wind_speed min_wind_speed avg_wind_speed  \\\n",
       "0  Nitrogen oxides (NOX)  ...       1,79E+15        2,2E+16       2,04E+15   \n",
       "1   Carbon dioxide (CO2)  ...       1,52E+16       2,06E+15       1,46E+16   \n",
       "\n",
       "   max_temp  min_temp  avg_temp DAY WITH FOGS   REPORTER NAME  \\\n",
       "0  1,51E+16  1,82E+15  1,71E+16            10  William Nelson   \n",
       "1  9,61E+15  1,33E+16  8,69E+15            19    Shawn Graham   \n",
       "\n",
       "                            CITY ID  \\\n",
       "0  c662b4b4d859a9c224b5ac0acf221748   \n",
       "1  3c563ab0d76fc84128574b5da82f769a   \n",
       "\n",
       "                        EPRTRAnnexIMainActivityLabel  \n",
       "0  Installations for the incineration of non-haza...  \n",
       "1  Thermal power stations and other combustion in...  \n",
       "\n",
       "[2 rows x 23 columns]"
      ]
     },
     "execution_count": 25,
     "metadata": {},
     "output_type": "execute_result"
    }
   ],
   "source": [
    "pdf_df.head(2)"
   ]
  },
  {
   "cell_type": "markdown",
   "id": "96f71090-41e1-4328-9f5a-fc55fee90bf3",
   "metadata": {},
   "source": [
    "### Merge dataframes"
   ]
  },
  {
   "cell_type": "code",
   "execution_count": 26,
   "id": "c957539d-3f76-42cb-b9dc-89dd9d752284",
   "metadata": {},
   "outputs": [],
   "source": [
    "join_df = pd.concat([csv_df, json_df, pdf_df], ignore_index = True)"
   ]
  },
  {
   "cell_type": "code",
   "execution_count": 27,
   "id": "cc8ab587-a396-40fd-acc4-0796f81e6316",
   "metadata": {},
   "outputs": [
    {
     "data": {
      "text/html": [
       "<div>\n",
       "<style scoped>\n",
       "    .dataframe tbody tr th:only-of-type {\n",
       "        vertical-align: middle;\n",
       "    }\n",
       "\n",
       "    .dataframe tbody tr th {\n",
       "        vertical-align: top;\n",
       "    }\n",
       "\n",
       "    .dataframe thead th {\n",
       "        text-align: right;\n",
       "    }\n",
       "</style>\n",
       "<table border=\"1\" class=\"dataframe\">\n",
       "  <thead>\n",
       "    <tr style=\"text-align: right;\">\n",
       "      <th></th>\n",
       "      <th>countryName</th>\n",
       "      <th>eprtrSectorName</th>\n",
       "      <th>EPRTRAnnexIMainActivityLabel</th>\n",
       "      <th>FacilityInspireID</th>\n",
       "      <th>facilityName</th>\n",
       "      <th>City</th>\n",
       "      <th>targetRelease</th>\n",
       "      <th>pollutant</th>\n",
       "      <th>reportingYear</th>\n",
       "      <th>MONTH</th>\n",
       "      <th>...</th>\n",
       "      <th>avg_wind_speed</th>\n",
       "      <th>min_wind_speed</th>\n",
       "      <th>max_temp</th>\n",
       "      <th>avg_temp</th>\n",
       "      <th>min_temp</th>\n",
       "      <th>DAY WITH FOGS</th>\n",
       "      <th>REPORTER NAME</th>\n",
       "      <th>CITY ID</th>\n",
       "      <th>EPRTRSectorCode</th>\n",
       "      <th>EPRTRAnnexIMainActivityCode</th>\n",
       "    </tr>\n",
       "  </thead>\n",
       "  <tbody>\n",
       "    <tr>\n",
       "      <th>0</th>\n",
       "      <td>Germany</td>\n",
       "      <td>Mineral industry</td>\n",
       "      <td>Installations for the production of cement cli...</td>\n",
       "      <td>https://registry.gdi-de.org/id/de.ni.mu/062217...</td>\n",
       "      <td>Holcim (Deutschland) GmbH Werk Höver</td>\n",
       "      <td>Sehnde</td>\n",
       "      <td>AIR</td>\n",
       "      <td>Carbon dioxide (CO2)</td>\n",
       "      <td>2015</td>\n",
       "      <td>10</td>\n",
       "      <td>...</td>\n",
       "      <td>14.312541</td>\n",
       "      <td>21.419106</td>\n",
       "      <td>2.864895</td>\n",
       "      <td>4.924169</td>\n",
       "      <td>9.688206</td>\n",
       "      <td>2</td>\n",
       "      <td>Mr. Jacob Ortega</td>\n",
       "      <td>7cdb5e74adcb2ffaa21c1b61395a984f</td>\n",
       "      <td>3</td>\n",
       "      <td>3(c)(i)</td>\n",
       "    </tr>\n",
       "    <tr>\n",
       "      <th>1</th>\n",
       "      <td>Italy</td>\n",
       "      <td>Mineral industry</td>\n",
       "      <td>Installations for the production of cement cli...</td>\n",
       "      <td>IT.CAED/240602021.FACILITY</td>\n",
       "      <td>Stabilimento di Tavernola Bergamasca</td>\n",
       "      <td>TAVERNOLA BERGAMASCA</td>\n",
       "      <td>AIR</td>\n",
       "      <td>Nitrogen oxides (NOX)</td>\n",
       "      <td>2018</td>\n",
       "      <td>9</td>\n",
       "      <td>...</td>\n",
       "      <td>19.368166</td>\n",
       "      <td>21.756389</td>\n",
       "      <td>5.462839</td>\n",
       "      <td>7.864403</td>\n",
       "      <td>12.023521</td>\n",
       "      <td>1</td>\n",
       "      <td>Ashlee Serrano</td>\n",
       "      <td>cd1dbabbdba230b828c657a9b19a8963</td>\n",
       "      <td>3</td>\n",
       "      <td>3(c)</td>\n",
       "    </tr>\n",
       "  </tbody>\n",
       "</table>\n",
       "<p>2 rows × 23 columns</p>\n",
       "</div>"
      ],
      "text/plain": [
       "  countryName   eprtrSectorName  \\\n",
       "0     Germany  Mineral industry   \n",
       "1       Italy  Mineral industry   \n",
       "\n",
       "                        EPRTRAnnexIMainActivityLabel  \\\n",
       "0  Installations for the production of cement cli...   \n",
       "1  Installations for the production of cement cli...   \n",
       "\n",
       "                                   FacilityInspireID  \\\n",
       "0  https://registry.gdi-de.org/id/de.ni.mu/062217...   \n",
       "1                         IT.CAED/240602021.FACILITY   \n",
       "\n",
       "                           facilityName                  City targetRelease  \\\n",
       "0  Holcim (Deutschland) GmbH Werk Höver                Sehnde           AIR   \n",
       "1  Stabilimento di Tavernola Bergamasca  TAVERNOLA BERGAMASCA           AIR   \n",
       "\n",
       "               pollutant reportingYear MONTH  ... avg_wind_speed  \\\n",
       "0   Carbon dioxide (CO2)          2015    10  ...      14.312541   \n",
       "1  Nitrogen oxides (NOX)          2018     9  ...      19.368166   \n",
       "\n",
       "  min_wind_speed  max_temp  avg_temp   min_temp DAY WITH FOGS  \\\n",
       "0      21.419106  2.864895  4.924169   9.688206             2   \n",
       "1      21.756389  5.462839  7.864403  12.023521             1   \n",
       "\n",
       "      REPORTER NAME                           CITY ID EPRTRSectorCode  \\\n",
       "0  Mr. Jacob Ortega  7cdb5e74adcb2ffaa21c1b61395a984f               3   \n",
       "1    Ashlee Serrano  cd1dbabbdba230b828c657a9b19a8963               3   \n",
       "\n",
       "  EPRTRAnnexIMainActivityCode  \n",
       "0                     3(c)(i)  \n",
       "1                        3(c)  \n",
       "\n",
       "[2 rows x 23 columns]"
      ]
     },
     "execution_count": 27,
     "metadata": {},
     "output_type": "execute_result"
    }
   ],
   "source": [
    "join_df.head(2)"
   ]
  },
  {
   "cell_type": "markdown",
   "id": "f44ad34e-21cf-4421-90cf-d7d1f8c24abe",
   "metadata": {},
   "source": [
    "### Transform pollutant data"
   ]
  },
  {
   "cell_type": "code",
   "execution_count": 28,
   "id": "8be83730-6456-4d37-8e21-003bfa62e024",
   "metadata": {},
   "outputs": [
    {
     "data": {
      "text/plain": [
       "pollutant\n",
       "Carbon dioxide (CO2)     22979\n",
       "Methane (CH4)            16729\n",
       "Nitrogen oxides (NOX)    26002\n",
       "Name: pollutant, dtype: int64"
      ]
     },
     "execution_count": 28,
     "metadata": {},
     "output_type": "execute_result"
    }
   ],
   "source": [
    "join_df.groupby(by=[\"pollutant\"])[\"pollutant\"].count()"
   ]
  },
  {
   "cell_type": "code",
   "execution_count": 29,
   "id": "ad837b21-fa2c-4f9a-986f-04db0acd6764",
   "metadata": {},
   "outputs": [],
   "source": [
    "pollutants = {'Nitrogen oxides (NOX)': 0, 'Carbon dioxide (CO2)': 1, 'Methane (CH4)': 2}\n",
    "join_df['pollutant'] = join_df['pollutant'].map(pollutants)"
   ]
  },
  {
   "cell_type": "code",
   "execution_count": 30,
   "id": "ab0f7385-ac61-4290-80bb-2da43df39dac",
   "metadata": {},
   "outputs": [
    {
     "data": {
      "text/plain": [
       "pollutant\n",
       "0    26002\n",
       "1    22979\n",
       "2    16729\n",
       "Name: pollutant, dtype: int64"
      ]
     },
     "execution_count": 30,
     "metadata": {},
     "output_type": "execute_result"
    }
   ],
   "source": [
    "join_df.groupby(by=[\"pollutant\"])[\"pollutant\"].count()"
   ]
  },
  {
   "cell_type": "markdown",
   "id": "21bd6966-9d29-440a-a97f-608ff74d6437",
   "metadata": {},
   "source": [
    "## Decision tree model"
   ]
  },
  {
   "cell_type": "code",
   "execution_count": 31,
   "id": "2f763e8f-4de4-4d86-b5b2-f6c159cdc72b",
   "metadata": {},
   "outputs": [],
   "source": [
    "from sklearn.tree import DecisionTreeClassifier\n",
    "import sklearn.tree as tree\n",
    "from sklearn.model_selection import train_test_split\n",
    "from sklearn import metrics\n",
    "from sklearn.metrics import f1_score\n",
    "import matplotlib.pyplot as plt"
   ]
  },
  {
   "cell_type": "code",
   "execution_count": 56,
   "id": "cc54c507-ebd7-4c65-a751-4b952249835b",
   "metadata": {},
   "outputs": [],
   "source": [
    "def tree_sector(turn):\n",
    "    y = join_df.pollutant\n",
    "    X = pd.get_dummies(join_df[['EPRTRSectorCode']], prefix=\"\", prefix_sep=\"\")\n",
    "    X_trainset, X_testset, y_trainset, y_testset = train_test_split(X, y, test_size=0.3, random_state=3)\n",
    "    pollutant_tree = DecisionTreeClassifier(criterion=\"entropy\", max_depth = turn)\n",
    "    pollutant_tree.fit(X_trainset, y_trainset)\n",
    "    predTree = pollutant_tree.predict(X_testset)\n",
    "    return metrics.f1_score(y_testset, predTree, average = 'macro')\n",
    "\n",
    "#    print(\"tree_sector f1_score: \", metrics.f1_score(y_testset, predTree, average = 'micro'))"
   ]
  },
  {
   "cell_type": "code",
   "execution_count": 57,
   "id": "fdb4eeea-582a-4d8d-a4a5-7e06626d6d7f",
   "metadata": {},
   "outputs": [],
   "source": [
    "def tree_activity(turn):\n",
    "    y = join_df.pollutant\n",
    "    X = pd.get_dummies(join_df[['EPRTRAnnexIMainActivityCode']], prefix=\"\", prefix_sep=\"\")\n",
    "    X_trainset, X_testset, y_trainset, y_testset = train_test_split(X, y, test_size=0.3, random_state=3)\n",
    "    pollutant_tree = DecisionTreeClassifier(criterion=\"entropy\", max_depth = turn)\n",
    "    pollutant_tree.fit(X_trainset, y_trainset)\n",
    "    predTree = pollutant_tree.predict(X_testset)\n",
    "    return metrics.f1_score(y_testset, predTree, average = 'macro')\n",
    "#    print(\"tree_activity f1_score: \", metrics.f1_score(y_testset, predTree, average = 'micro'))"
   ]
  },
  {
   "cell_type": "code",
   "execution_count": 58,
   "id": "bfae5359-274c-414c-9c4b-75117952a626",
   "metadata": {},
   "outputs": [],
   "source": [
    "def tree_both(turn):\n",
    "    y = join_df.pollutant\n",
    "    X = pd.get_dummies(join_df[['EPRTRSectorCode', 'EPRTRAnnexIMainActivityCode']], prefix=\"\", prefix_sep=\"\")\n",
    "    X_trainset, X_testset, y_trainset, y_testset = train_test_split(X, y, test_size=0.3, random_state=3)\n",
    "    pollutant_tree = DecisionTreeClassifier(criterion=\"entropy\", max_depth = turn)\n",
    "    pollutant_tree.fit(X_trainset, y_trainset)\n",
    "    predTree = pollutant_tree.predict(X_testset)\n",
    "    return metrics.f1_score(y_testset, predTree, average = 'macro')\n",
    "    #rint(\"tree_both f1_score: \", metrics.f1_score(y_testset, predTree, average = 'micro'))"
   ]
  },
  {
   "cell_type": "code",
   "execution_count": 37,
   "id": "065af980-4143-458b-b19d-3db3f8abd617",
   "metadata": {},
   "outputs": [],
   "source": [
    "x = []\n",
    "y_sec = []\n",
    "y_act = []\n",
    "y_both = []\n",
    "for i in range(1, 10):\n",
    "    x.append(i)\n",
    "    y_sec.append(tree_sector(i))\n",
    "    y_act.append(tree_activity(i))\n",
    "    y_both.append(tree_both(i))"
   ]
  },
  {
   "cell_type": "code",
   "execution_count": 38,
   "id": "099d2a2e-15db-42bb-96f3-746f2e33f52c",
   "metadata": {},
   "outputs": [
    {
     "data": {
      "text/plain": [
       "[1, 2, 3, 4, 5, 6, 7, 8, 9]"
      ]
     },
     "execution_count": 38,
     "metadata": {},
     "output_type": "execute_result"
    }
   ],
   "source": [
    "x"
   ]
  },
  {
   "cell_type": "code",
   "execution_count": 39,
   "id": "9eab2fa7-5b95-4120-9f5b-22a4e0d86e6c",
   "metadata": {},
   "outputs": [
    {
     "data": {
      "text/plain": [
       "[0.530462131588292,\n",
       " 0.5639425759650992,\n",
       " 0.5639425759650992,\n",
       " 0.5639425759650992,\n",
       " 0.5639425759650992,\n",
       " 0.5639425759650992,\n",
       " 0.5639425759650992,\n",
       " 0.5639425759650992,\n",
       " 0.5639425759650992]"
      ]
     },
     "execution_count": 39,
     "metadata": {},
     "output_type": "execute_result"
    }
   ],
   "source": [
    "y_sec"
   ]
  },
  {
   "cell_type": "code",
   "execution_count": 40,
   "id": "fc76f909-3a4f-4dea-af2d-35ebaa575cae",
   "metadata": {},
   "outputs": [
    {
     "data": {
      "text/plain": [
       "[0.5435499416628621,\n",
       " 0.5632323847207427,\n",
       " 0.5721605032212246,\n",
       " 0.578095672906204,\n",
       " 0.5847917617815654,\n",
       " 0.590625475574494,\n",
       " 0.590625475574494,\n",
       " 0.5932633287678182,\n",
       " 0.5952924466088368]"
      ]
     },
     "execution_count": 40,
     "metadata": {},
     "output_type": "execute_result"
    }
   ],
   "source": [
    "y_act"
   ]
  },
  {
   "cell_type": "code",
   "execution_count": 41,
   "id": "87f0e798-9f01-4bd2-a1b3-d7521ff1f106",
   "metadata": {},
   "outputs": [
    {
     "data": {
      "text/plain": [
       "[0.5435499416628621,\n",
       " 0.5770303860396693,\n",
       " 0.5859585045401512,\n",
       " 0.5926545934155126,\n",
       " 0.5926545934155126,\n",
       " 0.5952924466088368,\n",
       " 0.5952924466088368,\n",
       " 0.5958504540151169,\n",
       " 0.5951909907167858]"
      ]
     },
     "execution_count": 41,
     "metadata": {},
     "output_type": "execute_result"
    }
   ],
   "source": [
    "y_both"
   ]
  },
  {
   "cell_type": "code",
   "execution_count": 59,
   "id": "11cd118b-8845-42a8-a028-b917d340045c",
   "metadata": {},
   "outputs": [],
   "source": [
    "def tree_country(turn):\n",
    "    y = join_df.pollutant\n",
    "    X = pd.get_dummies(join_df[['countryName']], prefix=\"\", prefix_sep=\"\")\n",
    "    X_trainset, X_testset, y_trainset, y_testset = train_test_split(X, y, test_size=0.3, random_state=3)\n",
    "    pollutant_tree = DecisionTreeClassifier(criterion=\"entropy\", max_depth = turn)\n",
    "    pollutant_tree.fit(X_trainset, y_trainset)\n",
    "    predTree = pollutant_tree.predict(X_testset)\n",
    "    return metrics.f1_score(y_testset, predTree, average = 'macro')\n",
    "    #rint(\"tree_both f1_score: \", metrics.f1_score(y_testset, predTree, average = 'micro'))"
   ]
  },
  {
   "cell_type": "code",
   "execution_count": 60,
   "id": "3e0758b3-7aa5-4f5b-ad5f-a5ef286bae17",
   "metadata": {},
   "outputs": [],
   "source": [
    "def tree_city(turn):\n",
    "    y = join_df.pollutant\n",
    "    X = pd.get_dummies(join_df[['City']], prefix=\"\", prefix_sep=\"\")\n",
    "    X_trainset, X_testset, y_trainset, y_testset = train_test_split(X, y, test_size=0.3, random_state=3)\n",
    "    pollutant_tree = DecisionTreeClassifier(criterion=\"entropy\", max_depth = turn)\n",
    "    pollutant_tree.fit(X_trainset, y_trainset)\n",
    "    predTree = pollutant_tree.predict(X_testset)\n",
    "    return metrics.f1_score(y_testset, predTree, average = 'macro')\n",
    "    #rint(\"tree_both f1_score: \", metrics.f1_score(y_testset, predTree, average = 'micro'))"
   ]
  },
  {
   "cell_type": "code",
   "execution_count": 61,
   "id": "f96d6b6b-b28e-4a9c-a21f-5ff600ce0db9",
   "metadata": {},
   "outputs": [],
   "source": [
    "def tree_citycountry(turn):\n",
    "    y = join_df.pollutant\n",
    "    X = pd.get_dummies(join_df[['City', 'countryName']], prefix=\"\", prefix_sep=\"\")\n",
    "    X_trainset, X_testset, y_trainset, y_testset = train_test_split(X, y, test_size=0.3, random_state=3)\n",
    "    pollutant_tree = DecisionTreeClassifier(criterion=\"entropy\", max_depth = turn)\n",
    "    pollutant_tree.fit(X_trainset, y_trainset)\n",
    "    predTree = pollutant_tree.predict(X_testset)\n",
    "    return metrics.f1_score(y_testset, predTree, average = 'macro')\n",
    "    #rint(\"tree_both f1_score: \", metrics.f1_score(y_testset, predTree, average = 'micro'))"
   ]
  },
  {
   "cell_type": "code",
   "execution_count": 62,
   "id": "92d4c9a1-8c63-405d-b83e-bf47d3b2e068",
   "metadata": {},
   "outputs": [],
   "source": [
    "def tree_all(turn):\n",
    "    y = join_df.pollutant\n",
    "    X = pd.get_dummies(join_df[['City', 'countryName', 'EPRTRSectorCode', 'EPRTRAnnexIMainActivityCode']], prefix=\"\", prefix_sep=\"\")\n",
    "    X_trainset, X_testset, y_trainset, y_testset = train_test_split(X, y, test_size=0.3, random_state=3)\n",
    "    pollutant_tree = DecisionTreeClassifier(criterion=\"entropy\", max_depth = turn)\n",
    "    pollutant_tree.fit(X_trainset, y_trainset)\n",
    "    predTree = pollutant_tree.predict(X_testset)\n",
    "    return metrics.f1_score(y_testset, predTree, average = 'macro')"
   ]
  },
  {
   "cell_type": "code",
   "execution_count": 74,
   "id": "f6f53c92-a451-4537-8434-bb40c1ab2819",
   "metadata": {},
   "outputs": [
    {
     "name": "stdout",
     "output_type": "stream",
     "text": [
      "1\n",
      "2\n",
      "3\n",
      "4\n"
     ]
    }
   ],
   "source": [
    "x = []\n",
    "y_country = []\n",
    "y_city = []\n",
    "y_cc = []\n",
    "y_sec = []\n",
    "y_act = []\n",
    "y_both = []\n",
    "y_all = []\n",
    "for i in range(1, 5):\n",
    "    print (i)\n",
    "    x.append(i)\n",
    "    y_country.append(tree_country(i))\n",
    "    y_city.append(tree_city(i))\n",
    "    y_cc.append(tree_citycountry(i))\n",
    "    y_sec.append(tree_sector(i))\n",
    "    y_act.append(tree_activity(i))\n",
    "    y_both.append(tree_both(i))\n",
    "    y_all.append(tree_all(i))"
   ]
  },
  {
   "cell_type": "code",
   "execution_count": 148,
   "id": "0310aa2d-728e-4da3-86e9-a79e842eae90",
   "metadata": {},
   "outputs": [
    {
     "data": {
      "image/png": "[encoded data removed]",
      "text/plain": [
       "<Figure size 432x288 with 1 Axes>"
      ]
     },
     "metadata": {
      "needs_background": "light"
     },
     "output_type": "display_data"
    }
   ],
   "source": [
    "plt.plot(x, y_sec, label = \"setor\")\n",
    "plt.plot(x, y_act, label = \"activity\")\n",
    "plt.plot(x, y_both, label = \"both\")\n",
    "plt.plot(x, y_country, label = \"country\")\n",
    "plt.plot(x, y_city, label = \"city\")\n",
    "plt.plot(x, y_cc, label = \"city_country\")\n",
    "plt.plot(x, y_all, label = \"all\")\n",
    "plt.legend()\n",
    "plt.savefig('depth.png')\n",
    "plt.show()\n"
   ]
  },
  {
   "cell_type": "code",
   "execution_count": 77,
   "id": "6bf10ac1-7e0e-4598-b5f1-0aea418d9386",
   "metadata": {},
   "outputs": [
    {
     "name": "stdout",
     "output_type": "stream",
     "text": [
      "Final tree f1_score: 0.5090804815381954\n"
     ]
    }
   ],
   "source": [
    "y = join_df.pollutant\n",
    "X = pd.get_dummies(join_df[['EPRTRSectorCode', 'EPRTRAnnexIMainActivityCode']], prefix=\"\", prefix_sep=\"\")\n",
    "X_trainset, X_testset, y_trainset, y_testset = train_test_split(X, y, test_size=0.3, random_state=3)\n",
    "pollutant_tree = DecisionTreeClassifier(criterion=\"entropy\", max_depth = 4)\n",
    "pollutant_tree.fit(X_trainset, y_trainset)\n",
    "predTree = pollutant_tree.predict(X_testset)\n",
    "final_tree = metrics.f1_score(y_testset, predTree, average = 'macro')\n",
    "print(\"Final tree f1_score: \" + str(final_tree))\n"
   ]
  },
  {
   "cell_type": "code",
   "execution_count": 78,
   "id": "00b2730b-8d23-472f-8cde-a8749bde54a3",
   "metadata": {},
   "outputs": [
    {
     "data": {
      "image/png": "[encoded data removed]",
      "text/plain": [
       "<Figure size 432x288 with 1 Axes>"
      ]
     },
     "metadata": {
      "needs_background": "light"
     },
     "output_type": "display_data"
    }
   ],
   "source": [
    "tree.plot_tree(pollutant_tree)\n",
    "plt.show()"
   ]
  },
  {
   "cell_type": "code",
   "execution_count": 149,
   "id": "a3b47069-1f5a-47c3-9199-9cae1989e8d0",
   "metadata": {},
   "outputs": [
    {
     "name": "stdout",
     "output_type": "stream",
     "text": [
      "Final tree with full data f1_score: 0.5077352830457011\n"
     ]
    }
   ],
   "source": [
    "y = join_df.pollutant\n",
    "X = pd.get_dummies(join_df[['EPRTRSectorCode', 'EPRTRAnnexIMainActivityCode']], prefix=\"\", prefix_sep=\"\")\n",
    "pollutant_tree = DecisionTreeClassifier(criterion=\"entropy\", max_depth = 4)\n",
    "pollutant_tree.fit(X, y)\n",
    "predTree = pollutant_tree.predict(X)\n",
    "final_tree = metrics.f1_score(y, predTree, average = 'macro')\n",
    "print(\"Final tree with full data f1_score: \" + str(final_tree))"
   ]
  },
  {
   "cell_type": "code",
   "execution_count": 156,
   "id": "23c4c976-548b-49cd-95ec-24910b758679",
   "metadata": {},
   "outputs": [
    {
     "data": {
      "image/png": "[encoded data removed]",
      "text/plain": [
       "<Figure size 432x288 with 1 Axes>"
      ]
     },
     "metadata": {
      "needs_background": "light"
     },
     "output_type": "display_data"
    }
   ],
   "source": [
    "tree.plot_tree(pollutant_tree)\n",
    "plt.savefig('tree.pdf')\n",
    "plt.show()"
   ]
  },
  {
   "cell_type": "code",
   "execution_count": 93,
   "id": "8743627c-1b9f-4fbc-bfef-b40f820855c8",
   "metadata": {},
   "outputs": [
    {
     "data": {
      "text/plain": [
       "EPRTRSectorCode\n",
       "1    9163\n",
       "2    1160\n",
       "3    3725\n",
       "4    1664\n",
       "5    5901\n",
       "6    1487\n",
       "7     828\n",
       "8     467\n",
       "9      85\n",
       "Name: EPRTRSectorCode, dtype: int64"
      ]
     },
     "execution_count": 93,
     "metadata": {},
     "output_type": "execute_result"
    }
   ],
   "source": [
    "test_df = pd.read_csv(\"input/test_x.csv\")\n",
    "test_df.EPRTRSectorCode = test_df.EPRTRSectorCode.astype(str)\n"
   ]
  },
  {
   "cell_type": "code",
   "execution_count": 117,
   "id": "1693d235-4b0b-4c7c-8e53-858a8354b3cd",
   "metadata": {},
   "outputs": [],
   "source": [
    "X_test = pd.get_dummies(test_df[['EPRTRSectorCode', 'EPRTRAnnexIMainActivityCode']], prefix=\"\", prefix_sep=\"\")"
   ]
  },
  {
   "cell_type": "code",
   "execution_count": 119,
   "id": "74f59a4c-ee73-4733-9dca-af1128ddd7cf",
   "metadata": {},
   "outputs": [],
   "source": [
    "feature_difference = set(X) - set(X_test)\n",
    "feature_difference_df = pd.DataFrame(data=np.zeros((X_test.shape[0], len(feature_difference))),\n",
    "                                     columns=list(feature_difference))\n",
    "X_test = X_test.join(feature_difference_df)"
   ]
  },
  {
   "cell_type": "code",
   "execution_count": 122,
   "id": "6c4902ff-d771-4680-a795-a66f17c11056",
   "metadata": {},
   "outputs": [
    {
     "name": "stdout",
     "output_type": "stream",
     "text": [
      "Index(['4(a)(vii)'], dtype='object')\n"
     ]
    }
   ],
   "source": [
    "print (X_test.columns.difference(X.columns))\n"
   ]
  },
  {
   "cell_type": "code",
   "execution_count": 124,
   "id": "01cbf5e1-35cd-473a-bdbb-8c11d573e017",
   "metadata": {},
   "outputs": [],
   "source": [
    "X_test.drop(['4(a)(vii)'], axis = 1, inplace = True)"
   ]
  },
  {
   "cell_type": "code",
   "execution_count": 125,
   "id": "ddc7afb0-e727-4739-b323-58c99be0301f",
   "metadata": {},
   "outputs": [],
   "source": [
    "result_tree = pollutant_tree.predict(X_test)"
   ]
  },
  {
   "cell_type": "code",
   "execution_count": 126,
   "id": "e610d77f-ee5d-4355-b06f-f26c9fddbbe6",
   "metadata": {},
   "outputs": [
    {
     "data": {
      "text/plain": [
       "array([2, 0, 0, ..., 0, 0, 0], dtype=int64)"
      ]
     },
     "execution_count": 126,
     "metadata": {},
     "output_type": "execute_result"
    }
   ],
   "source": [
    "result_tree"
   ]
  },
  {
   "cell_type": "code",
   "execution_count": 134,
   "id": "c9f39e8b-d040-470d-9bce-0aed79fa635c",
   "metadata": {},
   "outputs": [],
   "source": [
    "df_final = pd.DataFrame(result_tree, columns = [\"pollutant\"])"
   ]
  },
  {
   "cell_type": "code",
   "execution_count": 138,
   "id": "af4179f5-fd00-4f15-a655-f49431d9a1c2",
   "metadata": {},
   "outputs": [],
   "source": [
    "df_final.reset_index(inplace = True)"
   ]
  },
  {
   "cell_type": "code",
   "execution_count": 142,
   "id": "b7490dbc-298a-44c7-833c-4d81e7f3ade6",
   "metadata": {},
   "outputs": [],
   "source": [
    "df_final.rename(columns = {'index':'test_index'}, inplace = True)"
   ]
  },
  {
   "cell_type": "code",
   "execution_count": 143,
   "id": "0d0c6e23-c7bd-42e0-8b43-4ed250d1ccab",
   "metadata": {},
   "outputs": [
    {
     "data": {
      "text/html": [
       "<div>\n",
       "<style scoped>\n",
       "    .dataframe tbody tr th:only-of-type {\n",
       "        vertical-align: middle;\n",
       "    }\n",
       "\n",
       "    .dataframe tbody tr th {\n",
       "        vertical-align: top;\n",
       "    }\n",
       "\n",
       "    .dataframe thead th {\n",
       "        text-align: right;\n",
       "    }\n",
       "</style>\n",
       "<table border=\"1\" class=\"dataframe\">\n",
       "  <thead>\n",
       "    <tr style=\"text-align: right;\">\n",
       "      <th></th>\n",
       "      <th>test_index</th>\n",
       "      <th>pollutant</th>\n",
       "    </tr>\n",
       "  </thead>\n",
       "  <tbody>\n",
       "    <tr>\n",
       "      <th>0</th>\n",
       "      <td>0</td>\n",
       "      <td>2</td>\n",
       "    </tr>\n",
       "    <tr>\n",
       "      <th>1</th>\n",
       "      <td>1</td>\n",
       "      <td>0</td>\n",
       "    </tr>\n",
       "    <tr>\n",
       "      <th>2</th>\n",
       "      <td>2</td>\n",
       "      <td>0</td>\n",
       "    </tr>\n",
       "    <tr>\n",
       "      <th>3</th>\n",
       "      <td>3</td>\n",
       "      <td>0</td>\n",
       "    </tr>\n",
       "    <tr>\n",
       "      <th>4</th>\n",
       "      <td>4</td>\n",
       "      <td>0</td>\n",
       "    </tr>\n",
       "    <tr>\n",
       "      <th>...</th>\n",
       "      <td>...</td>\n",
       "      <td>...</td>\n",
       "    </tr>\n",
       "    <tr>\n",
       "      <th>24475</th>\n",
       "      <td>24475</td>\n",
       "      <td>0</td>\n",
       "    </tr>\n",
       "    <tr>\n",
       "      <th>24476</th>\n",
       "      <td>24476</td>\n",
       "      <td>0</td>\n",
       "    </tr>\n",
       "    <tr>\n",
       "      <th>24477</th>\n",
       "      <td>24477</td>\n",
       "      <td>0</td>\n",
       "    </tr>\n",
       "    <tr>\n",
       "      <th>24478</th>\n",
       "      <td>24478</td>\n",
       "      <td>0</td>\n",
       "    </tr>\n",
       "    <tr>\n",
       "      <th>24479</th>\n",
       "      <td>24479</td>\n",
       "      <td>0</td>\n",
       "    </tr>\n",
       "  </tbody>\n",
       "</table>\n",
       "<p>24480 rows × 2 columns</p>\n",
       "</div>"
      ],
      "text/plain": [
       "       test_index  pollutant\n",
       "0               0          2\n",
       "1               1          0\n",
       "2               2          0\n",
       "3               3          0\n",
       "4               4          0\n",
       "...           ...        ...\n",
       "24475       24475          0\n",
       "24476       24476          0\n",
       "24477       24477          0\n",
       "24478       24478          0\n",
       "24479       24479          0\n",
       "\n",
       "[24480 rows x 2 columns]"
      ]
     },
     "execution_count": 143,
     "metadata": {},
     "output_type": "execute_result"
    }
   ],
   "source": [
    "df_final"
   ]
  },
  {
   "cell_type": "code",
   "execution_count": 145,
   "id": "ed43cc36-fd50-418f-a509-f303d2d786a8",
   "metadata": {},
   "outputs": [],
   "source": [
    "df_final.to_json('predictions.json')"
   ]
  },
  {
   "cell_type": "code",
   "execution_count": 146,
   "id": "2f991e3a-104f-44f6-8745-4035c8e26f25",
   "metadata": {},
   "outputs": [],
   "source": [
    "df_final.to_csv('predictions.csv')"
   ]
  },
  {
   "cell_type": "code",
   "execution_count": null,
   "id": "27d75e8d-7558-45bc-abc7-c3a77897ef1f",
   "metadata": {},
   "outputs": [],
   "source": []
  }
 ],
 "metadata": {
  "kernelspec": {
   "display_name": "Python 3",
   "language": "python",
   "name": "python3"
  },
  "language_info": {
   "codemirror_mode": {
    "name": "ipython",
    "version": 3
   },
   "file_extension": ".py",
   "mimetype": "text/x-python",
   "name": "python",
   "nbconvert_exporter": "python",
   "pygments_lexer": "ipython3",
   "version": "3.9.2"
  }
 },
 "nbformat": 4,
 "nbformat_minor": 5
}
